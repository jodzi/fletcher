{
 "cells": [
  {
   "cell_type": "code",
   "execution_count": 1,
   "metadata": {
    "collapsed": true
   },
   "outputs": [],
   "source": [
    "from pymongo import MongoClient\n",
    "from collections import Counter\n",
    "import pickle\n",
    "from bson.son import SON\n",
    "import operator\n",
    "import matplotlib.pyplot as plt\n",
    "% matplotlib inline"
   ]
  },
  {
   "cell_type": "code",
   "execution_count": 2,
   "metadata": {
    "collapsed": true
   },
   "outputs": [],
   "source": [
    "with open('heavy_metal_parsed.pkl', 'r') as infile:\n",
    "    heavy_metal_reviews = pickle.load(infile)"
   ]
  },
  {
   "cell_type": "code",
   "execution_count": 3,
   "metadata": {
    "collapsed": false
   },
   "outputs": [],
   "source": [
    "client = MongoClient()"
   ]
  },
  {
   "cell_type": "code",
   "execution_count": 4,
   "metadata": {
    "collapsed": true
   },
   "outputs": [],
   "source": [
    "hmm = client.dsbc.hmm"
   ]
  },
  {
   "cell_type": "code",
   "execution_count": 5,
   "metadata": {
    "collapsed": false
   },
   "outputs": [
    {
     "data": {
      "text/plain": [
       "ObjectId('555e365d215ae946e59ddbc2')"
      ]
     },
     "execution_count": 5,
     "metadata": {},
     "output_type": "execute_result"
    }
   ],
   "source": [
    "hmm.insert(heavy_metal_reviews[0])"
   ]
  },
  {
   "cell_type": "code",
   "execution_count": 6,
   "metadata": {
    "collapsed": false
   },
   "outputs": [],
   "source": [
    "for review in heavy_metal_reviews[1:]:\n",
    "    hmm.save(review)"
   ]
  },
  {
   "cell_type": "markdown",
   "metadata": {},
   "source": [
    "### Challenge 1"
   ]
  },
  {
   "cell_type": "code",
   "execution_count": 7,
   "metadata": {
    "collapsed": false
   },
   "outputs": [
    {
     "name": "stdout",
     "output_type": "stream",
     "text": [
      "Number of metal movies over the years: 856\n"
     ]
    },
    {
     "data": {
      "image/png": "[encoded data removed]",
      "text/plain": [
       "<matplotlib.figure.Figure at 0x1042b28d0>"
      ]
     },
     "metadata": {},
     "output_type": "display_data"
    }
   ],
   "source": [
    "cursor = hmm.find({},{'year':True, '_id':False})\n",
    "movie_years = [i['year'] for i in cursor]\n",
    "plt.hist(movie_years)\n",
    "print 'Number of metal movies over the years: {0}'.format(len(movie_years))"
   ]
  },
  {
   "cell_type": "markdown",
   "metadata": {
    "collapsed": false
   },
   "source": [
    "### Challenge 2"
   ]
  },
  {
   "cell_type": "code",
   "execution_count": 8,
   "metadata": {
    "collapsed": false
   },
   "outputs": [
    {
     "name": "stdout",
     "output_type": "stream",
     "text": [
      "Alice Cooper\n"
     ]
    }
   ],
   "source": [
    "cursor = hmm.find({},{'cast':True, '_id':False})\n",
    "\n",
    "cast_members = []\n",
    "for i in cursor:\n",
    "    for j in i['cast']:\n",
    "        cast_members.append(j)\n",
    "cnt = Counter()\n",
    "for member in cast_members:\n",
    "    cnt[member] += 1\n",
    "\n",
    "del cnt['']\n",
    "print max(cnt.iteritems(), key=operator.itemgetter(1))[0]"
   ]
  },
  {
   "cell_type": "markdown",
   "metadata": {
    "collapsed": false
   },
   "source": [
    "### Challenge 3"
   ]
  },
  {
   "cell_type": "code",
   "execution_count": 9,
   "metadata": {
    "collapsed": false
   },
   "outputs": [
    {
     "name": "stdout",
     "output_type": "stream",
     "text": [
      "[(u'METAL', 29), (u'IN', 25), (u'DEAD', 23), (u'HEAVY', 18), (u'ROCK', 17), (u'TO', 17), (u'BLOOD', 14), (u'BLACK', 14), (u'LAST', 13), (u'DEATH', 12)]\n"
     ]
    }
   ],
   "source": [
    "cursor = hmm.find({},{'title':True, '_id':False})\n",
    "\n",
    "title_words = []\n",
    "for i in cursor:\n",
    "    title_split = i['title'].split(' ')\n",
    "    for word in title_split:\n",
    "        title_words.append(word)\n",
    "        \n",
    "title_cnt = Counter()\n",
    "stop = ['the', 'and','or', 'a', 'of', 'by']\n",
    "for title_word in title_words:\n",
    "    # use NLTK corpus stopwords or create on stop words\n",
    "    if title_word.lower() not in stop:    \n",
    "        title_cnt[title_word] += 1\n",
    "print Counter(title_cnt).most_common(10)"
   ]
  },
  {
   "cell_type": "markdown",
   "metadata": {
    "collapsed": false
   },
   "source": [
    "### Challenge 4"
   ]
  },
  {
   "cell_type": "code",
   "execution_count": 11,
   "metadata": {
    "collapsed": false
   },
   "outputs": [
    {
     "name": "stdout",
     "output_type": "stream",
     "text": [
      "Top 5 words in 1970s are [(u'METAL', 144), (u'CRED', 141), (u'\\u201970s', 19), (u'Satan', 18), (u'\\u201cThe', 11)]\n",
      "Top 5 words in 1980s are [(u'METAL', 253), (u'CRED', 247), (u'\\u201980s', 64), (u'\\u2013', 35), (u'Post-Apocalypse', 30)]\n",
      "Top 5 words in 1990s are [(u'METAL', 89), (u'CRED', 87), (u'Soundtrack:', 34), (u'Black', 8), (u'Satan', 7)]\n",
      "Top 5 words in 2000s are [(u'METAL', 144), (u'CRED', 141), (u'Soundtrack:', 38), (u'Black', 12), (u'Porn', 12)]\n"
     ]
    }
   ],
   "source": [
    "pipeline_70s = [\n",
    "        {\"$match\": {\"year\": {\"$gt\":1970, \"$lt\":1980}}},\n",
    "        {\"$unwind\": \"$metal_cred\"},\n",
    "        {\"$group\": {\"_id\": \"$metal_cred\", \"count\": {\"$sum\": 1}}},\n",
    "        {\"$sort\": SON([(\"count\", -1), (\"_id\", -1)])}\n",
    "        ]\n",
    "        \n",
    "pipeline_80s = [\n",
    "        {\"$match\": {\"year\": {\"$gt\":1980, \"$lt\":1990}}},\n",
    "        {\"$unwind\": \"$metal_cred\"},\n",
    "        {\"$group\": {\"_id\": \"$metal_cred\", \"count\": {\"$sum\": 1}}},\n",
    "        {\"$sort\": SON([(\"count\", -1), (\"_id\", -1)])}\n",
    "        ]\n",
    "        \n",
    "pipeline_90s = [\n",
    "        {\"$match\": {\"year\": {\"$gt\":1990, \"$lt\":2000}}},\n",
    "        {\"$unwind\": \"$metal_cred\"},\n",
    "        {\"$group\": {\"_id\": \"$metal_cred\", \"count\": {\"$sum\": 1}}},\n",
    "        {\"$sort\": SON([(\"count\", -1), (\"_id\", -1)])}\n",
    "        ]\n",
    "        \n",
    "pipeline_00s = [\n",
    "        {\"$match\": {\"year\": {\"$gt\":2000, \"$lt\":2010}}},\n",
    "        {\"$unwind\": \"$metal_cred\"},\n",
    "        {\"$group\": {\"_id\": \"$metal_cred\", \"count\": {\"$sum\": 1}}},\n",
    "        {\"$sort\": SON([(\"count\", -1), (\"_id\", -1)])}\n",
    "        ]\n",
    "        \n",
    "results_70s = list(hmm.aggregate(pipeline_70s))\n",
    "results_80s = list(hmm.aggregate(pipeline_80s))\n",
    "results_90s = list(hmm.aggregate(pipeline_90s))\n",
    "results_00s = list(hmm.aggregate(pipeline_00s))\n",
    "\n",
    "words_70s = []\n",
    "words_80s = []\n",
    "words_90s = []\n",
    "words_00s = []\n",
    "\n",
    "for decade in [results_70s, results_80s, results_90s, results_00s]:\n",
    "    for el in decade:\n",
    "        split_words = el['_id'].split(' ')\n",
    "        for word in split_words:\n",
    "            for num in range(el['count']):\n",
    "                if decade == results_70s:\n",
    "                    if word.lower() not in stop:\n",
    "                        words_70s.append(word)\n",
    "                elif decade == results_80s:\n",
    "                    if word.lower() not in stop:\n",
    "                        words_80s.append(word)\n",
    "                elif decade == results_90s:\n",
    "                    if word.lower() not in stop:\n",
    "                        words_90s.append(word)\n",
    "                elif decade == results_00s:\n",
    "                    if word.lower() not in stop:\n",
    "                        words_00s.append(word)\n",
    "\n",
    "cnt_70s = Counter(words_70s)\n",
    "cnt_80s = Counter(words_80s)\n",
    "cnt_90s = Counter(words_90s)\n",
    "cnt_00s = Counter(words_00s)\n",
    "\n",
    "print 'Top 5 words in 1970s are {0}'.format(Counter(cnt_70s).most_common(5))\n",
    "print 'Top 5 words in 1980s are {0}'.format(Counter(cnt_80s).most_common(5))\n",
    "print 'Top 5 words in 1990s are {0}'.format(Counter(cnt_90s).most_common(5))\n",
    "print 'Top 5 words in 2000s are {0}'.format(Counter(cnt_00s).most_common(5))"
   ]
  },
  {
   "cell_type": "markdown",
   "metadata": {
    "collapsed": true
   },
   "source": [
    "### Challenge 5"
   ]
  },
  {
   "cell_type": "code",
   "execution_count": 76,
   "metadata": {
    "collapsed": false
   },
   "outputs": [],
   "source": []
  },
  {
   "cell_type": "code",
   "execution_count": null,
   "metadata": {
    "collapsed": false
   },
   "outputs": [],
   "source": []
  },
  {
   "cell_type": "code",
   "execution_count": null,
   "metadata": {
    "collapsed": true
   },
   "outputs": [],
   "source": []
  }
 ],
 "metadata": {
  "kernelspec": {
   "display_name": "Python 2",
   "language": "python",
   "name": "python2"
  },
  "language_info": {
   "codemirror_mode": {
    "name": "ipython",
    "version": 2
   },
   "file_extension": ".py",
   "mimetype": "text/x-python",
   "name": "python",
   "nbconvert_exporter": "python",
   "pygments_lexer": "ipython2",
   "version": "2.7.9"
  }
 },
 "nbformat": 4,
 "nbformat_minor": 0
}
