{
 "cells": [
  {
   "cell_type": "code",
   "execution_count": 1,
   "metadata": {
    "collapsed": true
   },
   "outputs": [],
   "source": [
    "import requests\n",
    "from requests_oauthlib import OAuth1\n",
    "from pymongo import MongoClient\n",
    "import tweepy\n",
    "import cnfg"
   ]
  },
  {
   "cell_type": "code",
   "execution_count": 2,
   "metadata": {
    "collapsed": true
   },
   "outputs": [],
   "source": [
    "client = MongoClient()\n",
    "mindfulness = client.mentalhealth.mindfulness"
   ]
  },
  {
   "cell_type": "code",
   "execution_count": 3,
   "metadata": {
    "collapsed": true
   },
   "outputs": [],
   "source": [
    "config = cnfg.load(\".twitter_config\")\n",
    "\n",
    "auth = tweepy.OAuthHandler(config[\"consumer_key\"],\n",
    "                           config[\"consumer_secret\"])\n",
    "auth.set_access_token(config[\"access_token\"],\n",
    "                      config[\"access_token_secret\"])\n",
    "               \n",
    "api = tweepy.API(auth)\n",
    "\n",
    "query = \"mindfulness\"\n",
    "max_tweets = 100\n",
    "\n",
    "mind_tweets = tweepy.Cursor(api.search, q=query).items(max_tweets)\n",
    "\n",
    "for tweet in mind_tweets:\n",
    "    mindfulness.insert({'text': tweet.text, 'user': tweet.user.name,\n",
    "                        'fav_count': tweet.favorite_count, \n",
    "                        'retweet_count': tweet.retweet_count})"
   ]
  },
  {
   "cell_type": "code",
   "execution_count": 4,
   "metadata": {
    "collapsed": true
   },
   "outputs": [],
   "source": [
    "cursor = mindfulness.find()"
   ]
  },
  {
   "cell_type": "code",
   "execution_count": 5,
   "metadata": {
    "collapsed": false
   },
   "outputs": [
    {
     "data": {
      "text/plain": [
       "{u'_id': ObjectId('555e4493215ae942e45d9ba4'),\n",
       " u'fav_count': 0,\n",
       " u'retweet_count': 1,\n",
       " u'text': u'RT @PRlady007: PLS RT if this matters:.@Equinox #namaste ad Offensive to spirit of word, #yoga #mindfulness #meditation #India http://t.co/\\u2026',\n",
       " u'user': u'prince hunter'}"
      ]
     },
     "execution_count": 5,
     "metadata": {},
     "output_type": "execute_result"
    }
   ],
   "source": [
    "cursor.next()"
   ]
  },
  {
   "cell_type": "code",
   "execution_count": 6,
   "metadata": {
    "collapsed": false
   },
   "outputs": [
    {
     "data": {
      "text/plain": [
       "{u'_id': ObjectId('555e4493215ae942e45d9ba5'),\n",
       " u'fav_count': 0,\n",
       " u'retweet_count': 0,\n",
       " u'text': u'Feeling Overwhelmed? Remember the \"RAIN\" mindfulness practice | Mindful http://t.co/97lRjHYQ8m',\n",
       " u'user': u'NAMI Lvngstn/McLn Co'}"
      ]
     },
     "execution_count": 6,
     "metadata": {},
     "output_type": "execute_result"
    }
   ],
   "source": [
    "cursor.next()"
   ]
  },
  {
   "cell_type": "code",
   "execution_count": null,
   "metadata": {
    "collapsed": true
   },
   "outputs": [],
   "source": []
  }
 ],
 "metadata": {
  "kernelspec": {
   "display_name": "Python 2",
   "language": "python",
   "name": "python2"
  },
  "language_info": {
   "codemirror_mode": {
    "name": "ipython",
    "version": 2
   },
   "file_extension": ".py",
   "mimetype": "text/x-python",
   "name": "python",
   "nbconvert_exporter": "python",
   "pygments_lexer": "ipython2",
   "version": "2.7.9"
  }
 },
 "nbformat": 4,
 "nbformat_minor": 0
}
